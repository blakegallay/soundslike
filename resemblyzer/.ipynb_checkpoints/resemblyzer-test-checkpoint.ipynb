{
 "cells": [
  {
   "cell_type": "code",
   "execution_count": 287,
   "metadata": {},
   "outputs": [],
   "source": [
    "# imports from resemblyzer demo01\n",
    "from resemblyzer import preprocess_wav, VoiceEncoder\n",
    "from itertools import groupby\n",
    "from pathlib import Path\n",
    "from tqdm import tqdm\n",
    "import matplotlib.pyplot as plt\n",
    "import numpy as np\n",
    "\n",
    "from mpl_toolkits.axes_grid1 import make_axes_locatable\n",
    "\n",
    "# my imports\n",
    "import os\n",
    "\n"
   ]
  },
  {
   "cell_type": "code",
   "execution_count": 288,
   "metadata": {},
   "outputs": [],
   "source": [
    "dirs = {'bieber': '../distortions/samples/justin_bieber/', \n",
    "        'post': '../distortions/samples/post_malone/',\n",
    "        'kanye': '../distortions/samples/kanye_west/',\n",
    "        'uzi': '../distortions/samples/lil_uzi_vert/'}\n",
    "\n",
    "# all of the wav file paths (starting from root dir)\n",
    "wav_paths = {artist:paths for (artist,paths) in \n",
    "             [(a,\n",
    "               \n",
    "               sorted(list(map(lambda x: dirs[a] + x, os.listdir(dirs[a]))),key=lambda x: float(x.split(\"_\")[-1][:-4]))\n",
    "              \n",
    "              \n",
    "              ) for a in dirs]}\n",
    "\n",
    "#print(wav_paths)"
   ]
  },
  {
   "cell_type": "code",
   "execution_count": 289,
   "metadata": {},
   "outputs": [
    {
     "name": "stdout",
     "output_type": "stream",
     "text": [
      "Loaded the voice encoder model on cpu in 0.01 seconds.\n"
     ]
    }
   ],
   "source": [
    "encoder = VoiceEncoder()"
   ]
  },
  {
   "cell_type": "code",
   "execution_count": 290,
   "metadata": {},
   "outputs": [],
   "source": [
    "# Dict of the form {artist1: {filename1: wav1, filename2: wav2 ...}, artist2: {filename1: wav1, filename2: wav2 ...} ...\n",
    "wavs = {artist:dict(wavs) for (artist, wavs) in \n",
    "        [(a, list(map(lambda x: (x,preprocess_wav(x)), wav_paths[a]))) for a in wav_paths]}\n",
    "#print(wavs)"
   ]
  },
  {
   "cell_type": "code",
   "execution_count": 291,
   "metadata": {},
   "outputs": [],
   "source": [
    "# An embed is a vector of 256 values that summarizes the characteristics of the voice spoken\n",
    "# (from https://github.com/resemble-ai/Resemblyzer)\n",
    "\n",
    "# Dict of the form {artist1: {file1: embed1, file2: embed2 ...}, artist2: {file1: embed1, file2: embed2 ...} ...}\n",
    "embeds = {artist:embeds for (artist, embeds) in \n",
    "         [(a, {f:np.array(encoder.embed_utterance(wav))\n",
    "               for f,wav in wavs[a].items()}) for a in wavs]}\n",
    "#print(embeds)"
   ]
  },
  {
   "cell_type": "code",
   "execution_count": 321,
   "metadata": {
    "scrolled": false
   },
   "outputs": [
    {
     "data": {
      "image/png": "[encoded data removed]",
      "text/plain": [
       "<Figure size 432x288 with 2 Axes>"
      ]
     },
     "metadata": {
      "needs_background": "light"
     },
     "output_type": "display_data"
    }
   ],
   "source": [
    "artists_to_compare = ('kanye', 'post')\n",
    "\n",
    "artist1 = artists_to_compare[0]\n",
    "artist2 = artists_to_compare[1]\n",
    "\n",
    "# Compute and show a similarity matrix\n",
    "#print(embeds)\n",
    "matrix = np.array([[np.dot(embed1, embed2) for embed1 in \n",
    "                    \n",
    "                    list(map(lambda x: x[1] if (\"0.0\" in x[0] or \"0.0\" in f) else np.array([0 for n in range(256)]), embeds[artist1].items()))\n",
    "                   \n",
    "                   ][::-1] for f,embed2 in embeds[artist2].items()])\n",
    "\n",
    "#print(matrix)\n",
    "\n",
    "get_name = lambda p : \"/\".join(p.split(\"/\")[-2:]) \n",
    "\n",
    "x_labels = list(map(get_name,embeds[artist1].keys()))\n",
    "y_labels = list(map(get_name, embeds[artist2].keys()))\n",
    "\n",
    "_, ax = plt.subplots()\n",
    "fig = plt.gcf()\n",
    "img = ax.matshow(matrix, extent=(-0.5, matrix.shape[0] - 0.5, \n",
    "                                     -0.5, matrix.shape[1] - 0.5))\n",
    "\n",
    "ax.xaxis.set_ticks_position(\"bottom\")\n",
    "ax.set_xticks(range(len(x_labels)))\n",
    "ax.set_xticklabels(x_labels[::-1], rotation=90)\n",
    "\n",
    "ax.set_yticks(range(len(y_labels)))\n",
    "ax.set_yticklabels(y_labels[::-1])\n",
    "\n",
    "ax.set_title(\"Does {0} sound like {1}?\".format(artist1, artist2))\n",
    "\n",
    "cax = make_axes_locatable(ax).append_axes(\"right\", size=\"5%\", pad=0.15)\n",
    "fig.colorbar(img, cax=cax, ticks=np.linspace(0.4, 1, 7))\n",
    "img.set_clim(0.4, 1)\n",
    "img.set_cmap(\"inferno\")\n",
    "    \n",
    "plt.show()\n",
    "\n",
    "plt.close()"
   ]
  },
  {
   "cell_type": "code",
   "execution_count": 310,
   "metadata": {},
   "outputs": [
    {
     "data": {
      "text/plain": [
       "11"
      ]
     },
     "execution_count": 310,
     "metadata": {},
     "output_type": "execute_result"
    }
   ],
   "source": [
    "np.dot([1,2], [3,4])"
   ]
  },
  {
   "cell_type": "code",
   "execution_count": 314,
   "metadata": {},
   "outputs": [
    {
     "data": {
      "text/plain": [
       "True"
      ]
     },
     "execution_count": 314,
     "metadata": {},
     "output_type": "execute_result"
    }
   ],
   "source": [
    "\"0.0\" in \"hello_0.0.wav\""
   ]
  },
  {
   "cell_type": "code",
   "execution_count": null,
   "metadata": {},
   "outputs": [],
   "source": []
  }
 ],
 "metadata": {
  "kernelspec": {
   "display_name": "Python 3.8.2 64-bit",
   "language": "python",
   "name": "python38264bit09ad96bb2f3f471a8dc4f669ef23c3db"
  },
  "language_info": {
   "codemirror_mode": {
    "name": "ipython",
    "version": 3
   },
   "file_extension": ".py",
   "mimetype": "text/x-python",
   "name": "python",
   "nbconvert_exporter": "python",
   "pygments_lexer": "ipython3",
   "version": "3.8.2"
  }
 },
 "nbformat": 4,
 "nbformat_minor": 4
}
