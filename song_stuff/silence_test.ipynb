{
 "cells": [
  {
   "cell_type": "code",
   "execution_count": 21,
   "metadata": {},
   "outputs": [],
   "source": [
    "from pydub import AudioSegment\n",
    "from pydub import silence\n",
    "\n",
    "import os"
   ]
  },
  {
   "cell_type": "code",
   "execution_count": 22,
   "metadata": {},
   "outputs": [],
   "source": [
    "wavs_dir = \"../audio/samples/vocals/post_malone-white_iverson\""
   ]
  },
  {
   "cell_type": "code",
   "execution_count": 23,
   "metadata": {},
   "outputs": [],
   "source": [
    "silences = {}\n",
    "\n",
    "for file in os.listdir(wavs_dir):\n",
    "    wav_path = os.path.join(wavs_dir, file)\n",
    "    song = AudioSegment.from_wav(wav_path)\n",
    "    silence_ranges = silence.detect_silence(song, silence_thresh=-23)\n",
    "    \n",
    "    total_silence = sum([(e - s) for s,e in list(map(tuple, silence_ranges))])\n",
    "    silences[file] = total_silence"
   ]
  },
  {
   "cell_type": "code",
   "execution_count": 24,
   "metadata": {},
   "outputs": [],
   "source": [
    "sorted_silences = sorted(silences.items(), key=lambda x: x[1])"
   ]
  },
  {
   "cell_type": "code",
   "execution_count": 25,
   "metadata": {},
   "outputs": [],
   "source": [
    "snips_to_keep = 5\n",
    "sorted_silences = sorted_silences[:5]"
   ]
  },
  {
   "cell_type": "code",
   "execution_count": 26,
   "metadata": {},
   "outputs": [],
   "source": [
    "for file in os.listdir(wavs_dir):\n",
    "    if file not in map(lambda x: x[0], sorted_silences):\n",
    "         os.system(\"rm {}\".format(os.path.join(wavs_dir, file)))"
   ]
  },
  {
   "cell_type": "code",
   "execution_count": null,
   "metadata": {},
   "outputs": [],
   "source": []
  }
 ],
 "metadata": {
  "kernelspec": {
   "display_name": "Python 3.8.2 64-bit",
   "language": "python",
   "name": "python38264bite4e4a7db0d5e407bb998be95a7f21bc6"
  },
  "language_info": {
   "codemirror_mode": {
    "name": "ipython",
    "version": 3
   },
   "file_extension": ".py",
   "mimetype": "text/x-python",
   "name": "python",
   "nbconvert_exporter": "python",
   "pygments_lexer": "ipython3",
   "version": "3.8.2"
  }
 },
 "nbformat": 4,
 "nbformat_minor": 4
}
