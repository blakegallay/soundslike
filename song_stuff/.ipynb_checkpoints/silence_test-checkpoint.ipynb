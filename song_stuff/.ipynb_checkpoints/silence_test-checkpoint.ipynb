{
 "cells": [
  {
   "cell_type": "code",
   "execution_count": 63,
   "metadata": {},
   "outputs": [],
   "source": [
    "from pydub import AudioSegment\n",
    "from pydub import silence\n",
    "\n",
    "import os"
   ]
  },
  {
   "cell_type": "code",
   "execution_count": 82,
   "metadata": {},
   "outputs": [],
   "source": [
    "wavs_dir = \"../audio/samples/vocals/justin_bieber-sorry\""
   ]
  },
  {
   "cell_type": "code",
   "execution_count": 83,
   "metadata": {},
   "outputs": [],
   "source": [
    "silences = {}\n",
    "\n",
    "for file in os.listdir(wavs_dir):\n",
    "    wav_path = os.path.join(wavs_dir, file)\n",
    "    song = AudioSegment.from_wav(wav_path)\n",
    "    silence_ranges = silence.detect_silence(song, silence_thresh=-23)\n",
    "    \n",
    "    total_silence = sum([(e - s) for s,e in list(map(tuple, silence_ranges))])\n",
    "    silences[file] = total_silence"
   ]
  },
  {
   "cell_type": "code",
   "execution_count": 84,
   "metadata": {},
   "outputs": [],
   "source": [
    "sorted_silences = sorted(silences.items(), key=lambda x: x[1])"
   ]
  },
  {
   "cell_type": "code",
   "execution_count": 86,
   "metadata": {},
   "outputs": [
    {
     "name": "stdout",
     "output_type": "stream",
     "text": [
      "[('justin_bieber-sorry_snip13-vocals.wav', 0), ('justin_bieber-sorry_snip15-vocals.wav', 0), ('justin_bieber-sorry_snip16-vocals.wav', 0), ('justin_bieber-sorry_snip17-vocals.wav', 0), ('justin_bieber-sorry_snip18-vocals.wav', 0)]\n"
     ]
    }
   ],
   "source": [
    "print(sorted_silences[:5])"
   ]
  },
  {
   "cell_type": "code",
   "execution_count": null,
   "metadata": {},
   "outputs": [],
   "source": []
  }
 ],
 "metadata": {
  "kernelspec": {
   "display_name": "Python 3",
   "language": "python",
   "name": "python3"
  },
  "language_info": {
   "codemirror_mode": {
    "name": "ipython",
    "version": 3
   },
   "file_extension": ".py",
   "mimetype": "text/x-python",
   "name": "python",
   "nbconvert_exporter": "python",
   "pygments_lexer": "ipython3",
   "version": "3.8.2"
  }
 },
 "nbformat": 4,
 "nbformat_minor": 4
}
