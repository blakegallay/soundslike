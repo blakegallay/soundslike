{
 "cells": [
  {
   "cell_type": "code",
   "execution_count": 46,
   "metadata": {},
   "outputs": [],
   "source": [
    "# HI SAWYER\n",
    "# IN ORDER TO USE THIS NOTEBOOK, YOU MUST BE RUNNING PYTHON 3.6.x OR 3.7.x WITH SPLEETER INSTALLED\n",
    "\n",
    "from spleeter.separator import Separator\n",
    "from spleeter.audio.adapter import get_default_audio_adapter\n",
    "\n",
    "import os"
   ]
  },
  {
   "cell_type": "code",
   "execution_count": 47,
   "metadata": {},
   "outputs": [],
   "source": [
    "# Using embedded configuration.\n",
    "separator = Separator('spleeter:2stems')"
   ]
  },
  {
   "cell_type": "code",
   "execution_count": 49,
   "metadata": {},
   "outputs": [],
   "source": [
    "audio_loader = get_default_audio_adapter()\n",
    "sample_rate = 44100\n",
    "\n",
    "master_dir = \"../audio/samples/original\"\n",
    "\n",
    "out_dir = \"../audio/samples/vocals\"\n",
    "\n",
    "audio_dirs = ['post_malone-white_iverson', \n",
    "              'justin_bieber-sorry']\n",
    "\n",
    "\n",
    "for d in audio_dirs:\n",
    "    for file in os.listdir(os.path.join(master_dir, d)):\n",
    "        name = os.path.splitext(os.path.basename(file))[0]\n",
    "        \n",
    "        path = os.path.join(master_dir, d, file)\n",
    "\n",
    "        waveform, _ = audio_loader.load(path, sample_rate=sample_rate)\n",
    "\n",
    "        prediction = separator.separate(waveform)\n",
    "\n",
    "        del prediction['accompaniment']\n",
    "\n",
    "        separator.save_to_file(prediction, file, out_dir)\n",
    "\n",
    "        saved_to_dir = os.path.join(out_dir, name)\n",
    "        saved_to_path = os.path.join(saved_to_dir, \"vocals.wav\")                      \n",
    "        new_name = name + \"-vocals.wav\"\n",
    "        print(new_name)\n",
    "        os.rename(saved_to_path, new_name)         \n",
    "        os.system(\"mv {} {}\".format(new_name, os.path.join(out_dir, d)))\n",
    "        os.system(\"rmdir {}\".format(saved_to_dir))\n"
   ]
  },
  {
   "cell_type": "code",
   "execution_count": 21,
   "metadata": {},
   "outputs": [],
   "source": [
    "#separator.separate_to_file('./justin_bieber-sorry_snip2.wav', '.')\n"
   ]
  }
 ],
 "metadata": {
  "kernelspec": {
   "display_name": "3.7env",
   "language": "python",
   "name": "3.7env"
  },
  "language_info": {
   "codemirror_mode": {
    "name": "ipython",
    "version": 3
   },
   "file_extension": ".py",
   "mimetype": "text/x-python",
   "name": "python",
   "nbconvert_exporter": "python",
   "pygments_lexer": "ipython3",
   "version": "3.7.0"
  }
 },
 "nbformat": 4,
 "nbformat_minor": 4
}
