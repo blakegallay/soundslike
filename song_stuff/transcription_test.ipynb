{
 "cells": [
  {
   "cell_type": "code",
   "execution_count": 1,
   "metadata": {},
   "outputs": [],
   "source": [
    "import speech_recognition as sr\n",
    "import numpy as np\n",
    "import os"
   ]
  },
  {
   "cell_type": "code",
   "execution_count": 2,
   "metadata": {},
   "outputs": [],
   "source": [
    "song = \"../audio/songs/justin_bieber-sorry.wav\""
   ]
  },
  {
   "cell_type": "code",
   "execution_count": 3,
   "metadata": {},
   "outputs": [],
   "source": [
    "r = sr.Recognizer()\n",
    "with sr.WavFile(song) as source:\n",
    "    audio = r.record(source)"
   ]
  },
  {
   "cell_type": "code",
   "execution_count": 4,
   "metadata": {},
   "outputs": [
    {
     "name": "stdout",
     "output_type": "stream",
     "text": [
      "Transcription: only it out and not one so it moves on to show up and you'd go ahead and is that london to you is that me and that can happen again at the pump and that it is that of most in need of death and landing on and to me that what if the now if it's up to u. g. it kind into his eaten up that the family it for the upkeep of up up that half of hope hit apfel did five hong kong in fact stated reason to be said you did in the average the initiative and you did bud bud what a movie about you can vet and should be paying say but it at it'd behave is the thing that jason and heat gains his family says in which he whipped and of is isn't that against the fact that he has to have to it and to end up and for what subject at fit up i pick cup sip of hug up fit to cope out on us i think that the fifth up a one\n"
     ]
    }
   ],
   "source": [
    "try:\n",
    "    print(\"Transcription: \" + r.recognize_sphinx(audio)) \n",
    "except LookupError:                    \n",
    "    print(\"Could not understand audio\")"
   ]
  },
  {
   "cell_type": "code",
   "execution_count": null,
   "metadata": {},
   "outputs": [],
   "source": []
  }
 ],
 "metadata": {
  "kernelspec": {
   "display_name": "Python 3.8.2 64-bit",
   "language": "python",
   "name": "python38264bite4e4a7db0d5e407bb998be95a7f21bc6"
  },
  "language_info": {
   "codemirror_mode": {
    "name": "ipython",
    "version": 3
   },
   "file_extension": ".py",
   "mimetype": "text/x-python",
   "name": "python",
   "nbconvert_exporter": "python",
   "pygments_lexer": "ipython3",
   "version": "3.8.2"
  }
 },
 "nbformat": 4,
 "nbformat_minor": 4
}
