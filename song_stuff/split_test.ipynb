{
 "cells": [
  {
   "cell_type": "code",
   "execution_count": 4,
   "metadata": {},
   "outputs": [],
   "source": [
    "from pydub import AudioSegment"
   ]
  },
  {
   "cell_type": "code",
   "execution_count": 5,
   "metadata": {},
   "outputs": [],
   "source": [
    "song_path = \"../audio/songs/\"\n",
    "song = \"post_malone-white_iverson.wav\""
   ]
  },
  {
   "cell_type": "code",
   "execution_count": 6,
   "metadata": {},
   "outputs": [],
   "source": [
    "audio = AudioSegment.from_wav(song_path + song)\n",
    "length_ms = len(audio) "
   ]
  },
  {
   "cell_type": "code",
   "execution_count": 7,
   "metadata": {
    "scrolled": false
   },
   "outputs": [],
   "source": [
    "# 10 second snippets\n",
    "snippet_length = 10 * 1000\n",
    "\n",
    "out_path = \"../audio/samples/original/post_malone/\"\n",
    "\n",
    "for n in (range(int(length_ms / snippet_length))):\n",
    "    t1 = n * snippet_length\n",
    "    t2 = (n+1) * snippet_length\n",
    "\n",
    "    snip_audio = audio[t1:t2]\n",
    "    snip_audio.export(out_path + song.split(\".\")[0] + \"_snip\" + str(n+1) + \".wav\", format=\"wav\")"
   ]
  },
  {
   "cell_type": "code",
   "execution_count": 8,
   "metadata": {},
   "outputs": [
    {
     "data": {
      "text/plain": [
       "'../audio/samples/original/post_malone/post_malone-white_iverson_snip1.wav'"
      ]
     },
     "execution_count": 8,
     "metadata": {},
     "output_type": "execute_result"
    }
   ],
   "source": [
    "out_path + song.split(\".\")[0] + \"_snip\" + str(0+1) + \".wav\""
   ]
  },
  {
   "cell_type": "code",
   "execution_count": null,
   "metadata": {},
   "outputs": [],
   "source": []
  }
 ],
 "metadata": {
  "kernelspec": {
   "display_name": "Python 3.8.2 64-bit",
   "language": "python",
   "name": "python38264bite4e4a7db0d5e407bb998be95a7f21bc6"
  },
  "language_info": {
   "codemirror_mode": {
    "name": "ipython",
    "version": 3
   },
   "file_extension": ".py",
   "mimetype": "text/x-python",
   "name": "python",
   "nbconvert_exporter": "python",
   "pygments_lexer": "ipython3",
   "version": "3.8.2"
  }
 },
 "nbformat": 4,
 "nbformat_minor": 4
}
